{
 "cells": [
  {
   "cell_type": "markdown",
   "id": "39e15fdd",
   "metadata": {},
   "source": [
    "\n",
    "# Proyecto WWII — End-to-End (OFFLINE, dataset incluido)\n",
    "\n",
    "Este proyecto usa un **dataset consolidado incluido** (`data/ww2_country_panel.csv`) con cifras de bajas, población, PIB per cápita (Maddison, 1990 intl $ aprox.), y producción industrial (aviones, tanques) 1939–1945 para 10 países principales.\n",
    "> Nota: Las estimaciones varían según la fuente. Este snapshot busca ser **didáctico** y razonable para análisis educativo; ver README para contexto y referencias.\n",
    "\n",
    "## 1) Setup\n"
   ]
  },
  {
   "cell_type": "code",
   "execution_count": null,
   "id": "956051cd",
   "metadata": {},
   "outputs": [],
   "source": [
    "\n",
    "import warnings; warnings.filterwarnings('ignore')\n",
    "import numpy as np, pandas as pd, matplotlib.pyplot as plt\n",
    "from sklearn.preprocessing import StandardScaler\n",
    "from sklearn.compose import ColumnTransformer\n",
    "from sklearn.pipeline import Pipeline\n",
    "from sklearn.model_selection import LeaveOneOut\n",
    "from sklearn.linear_model import LinearRegression, LogisticRegression\n",
    "from sklearn.metrics import mean_absolute_error, r2_score, accuracy_score, precision_score, recall_score, f1_score, confusion_matrix\n",
    "\n",
    "DATA_PATH = \"data/ww2_country_panel.csv\"\n",
    "df = pd.read_csv(DATA_PATH)\n",
    "df.head()\n"
   ]
  },
  {
   "cell_type": "markdown",
   "id": "99ebed9e",
   "metadata": {},
   "source": [
    "## 2) Calidad de datos y derivadas"
   ]
  },
  {
   "cell_type": "code",
   "execution_count": null,
   "id": "cabdecc2",
   "metadata": {},
   "outputs": [],
   "source": [
    "\n",
    "df.info()\n",
    "print(\"\\nNulos por columna:\\n\", df.isna().sum())\n",
    "df.describe()\n"
   ]
  },
  {
   "cell_type": "markdown",
   "id": "34877527",
   "metadata": {},
   "source": [
    "## 3) EDA"
   ]
  },
  {
   "cell_type": "code",
   "execution_count": null,
   "id": "cac55d3e",
   "metadata": {},
   "outputs": [],
   "source": [
    "\n",
    "# Muertes por 1000 habitantes (barra)\n",
    "plt.figure(); \n",
    "order = df.sort_values('deaths_per_1000', ascending=False)\n",
    "plt.bar(order['entity'], order['deaths_per_1000'])\n",
    "plt.xticks(rotation=45, ha='right'); plt.ylabel('Muertes por 1000'); plt.title('Tasa de bajas WWII (estimación)'); plt.tight_layout(); plt.show()\n",
    "\n",
    "# Producción de aviones vs muertes per cápita\n",
    "plt.figure(); \n",
    "plt.scatter(df['aircraft_per_million_pop'], df['deaths_per_1000'])\n",
    "for i, r in df.iterrows():\n",
    "    plt.annotate(r['entity'], (r['aircraft_per_million_pop'], r['deaths_per_1000']), fontsize=8)\n",
    "plt.xlabel('Aviones por millón de hab. (39–45)')\n",
    "plt.ylabel('Muertes por 1000')\n",
    "plt.title('Relación producción de aviones vs. bajas per cápita')\n",
    "plt.tight_layout(); plt.show()\n",
    "\n",
    "# Box de GDP per cápita antes y después\n",
    "plt.figure(); \n",
    "plt.boxplot([df['gdp_pc_1939_int1990'], df['gdp_pc_1945_int1990']], labels=['1939','1945'])\n",
    "plt.ylabel('GDP per cápita (1990 intl $ aprox.)'); plt.title('PIB per cápita: 1939 vs 1945')\n",
    "plt.show()\n"
   ]
  },
  {
   "cell_type": "markdown",
   "id": "52cf9766",
   "metadata": {},
   "source": [
    "## 4) Modelos didácticos"
   ]
  },
  {
   "cell_type": "markdown",
   "id": "9dc7078c",
   "metadata": {},
   "source": [
    "### 4.1 Regresión: explicar `deaths_per_1000`"
   ]
  },
  {
   "cell_type": "code",
   "execution_count": null,
   "id": "5c8a9cf2",
   "metadata": {},
   "outputs": [],
   "source": [
    "\n",
    "X = df[['gdp_pc_1939_int1990','aircraft_per_million_pop','tanks_per_million_pop','pop_1939_mill']].copy()\n",
    "y = df['deaths_per_1000'].copy()\n",
    "\n",
    "loo = LeaveOneOut()\n",
    "preds, ys = [], []\n",
    "for tr, te in loo.split(X):\n",
    "    pipe = Pipeline([('sc', StandardScaler()), ('lr', LinearRegression())])\n",
    "    pipe.fit(X.iloc[tr], y.iloc[tr])\n",
    "    p = pipe.predict(X.iloc[te])[0]\n",
    "    preds.append(p); ys.append(y.iloc[te].values[0])\n",
    "\n",
    "mae = mean_absolute_error(ys, preds); r2 = r2_score(ys, preds)\n",
    "print({'MAE': round(mae,3), 'R2_LOOCV': round(r2,3)})\n"
   ]
  },
  {
   "cell_type": "markdown",
   "id": "8a108ee2",
   "metadata": {},
   "source": [
    "### 4.2 Clasificación: alta vs. baja mortalidad per cápita"
   ]
  },
  {
   "cell_type": "code",
   "execution_count": null,
   "id": "c388212b",
   "metadata": {},
   "outputs": [],
   "source": [
    "\n",
    "thr = df['deaths_per_1000'].median()\n",
    "df['high_mortality'] = (df['deaths_per_1000'] >= thr).astype(int)\n",
    "\n",
    "Xc = df[['gdp_pc_1939_int1990','aircraft_per_million_pop','tanks_per_million_pop','pop_1939_mill']].copy()\n",
    "yc = df['high_mortality'].copy()\n",
    "\n",
    "loo = LeaveOneOut()\n",
    "preds, ys = [], []\n",
    "for tr, te in loo.split(Xc):\n",
    "    pipe = Pipeline([('sc', StandardScaler()), ('clf', LogisticRegression(max_iter=500))])\n",
    "    pipe.fit(Xc.iloc[tr], yc.iloc[tr])\n",
    "    p = pipe.predict(Xc.iloc[te])[0]\n",
    "    preds.append(p); ys.append(yc.iloc[te].values[0])\n",
    "\n",
    "acc = accuracy_score(ys, preds); prec = precision_score(ys, preds); rec = recall_score(ys, preds); f1 = f1_score(ys, preds)\n",
    "print({'acc': round(acc,3), 'prec': round(prec,3), 'rec': round(rec,3), 'f1': round(f1,3)})\n",
    "print(\"Matriz de confusión:\\n\", confusion_matrix(ys, preds))\n"
   ]
  },
  {
   "cell_type": "markdown",
   "id": "e8114eca",
   "metadata": {},
   "source": [
    "## 5) Exportables"
   ]
  },
  {
   "cell_type": "code",
   "execution_count": null,
   "id": "3cf60c19",
   "metadata": {},
   "outputs": [],
   "source": [
    "\n",
    "import os\n",
    "os.makedirs(\"data/processed\", exist_ok=True)\n",
    "df.to_csv(\"data/processed/ww2_country_panel_enriquecido.csv\", index=False)\n",
    "print(\"Guardado data/processed/ww2_country_panel_enriquecido.csv\")\n"
   ]
  },
  {
   "cell_type": "markdown",
   "id": "5225bf46",
   "metadata": {},
   "source": [
    "## 6) Notas de gobernanza / límites"
   ]
  },
  {
   "cell_type": "markdown",
   "id": "82d012fa",
   "metadata": {},
   "source": [
    "\n",
    "- Las cifras de bajas y producción WWII **varían por fuente**; este snapshot busca valores plausibles y ampliamente citados para uso educativo.\n",
    "- Recomendado: validar contra fuentes académicas/museos y documentar la **fecha y fuente** para informes formales.\n",
    "- Este proyecto es **offline** para evitar fallas de red/403/404.\n"
   ]
  }
 ],
 "metadata": {},
 "nbformat": 4,
 "nbformat_minor": 5
}
